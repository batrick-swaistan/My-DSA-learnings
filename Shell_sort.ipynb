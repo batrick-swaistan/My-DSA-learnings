{
 "cells": [
  {
   "cell_type": "markdown",
   "id": "5191b57e",
   "metadata": {},
   "source": [
    "As we are doing shell sort it's a optimized version of insertion sort: the first element is always sorted so that we are calling tha anchor as the second element of gap"
   ]
  },
  {
   "cell_type": "code",
   "execution_count": 3,
   "id": "5531878f",
   "metadata": {},
   "outputs": [
    {
     "name": "stdout",
     "output_type": "stream",
     "text": [
      "[11, 12, 21, 22, 23, 33, 34, 55, 56, 78, 88, 99]\n"
     ]
    }
   ],
   "source": [
    "def shell_sort(elements):\n",
    "    size=len(elements)\n",
    "    gap=size//2\n",
    "    \n",
    "    while gap > 0:\n",
    "        for i in range(gap,size):\n",
    "            anchor=elements[i]\n",
    "            j=i\n",
    "            while j >= gap and elements[j-gap] > anchor:\n",
    "                elements[j]=elements[j -gap]\n",
    "                j-=gap\n",
    "            elements[j]=anchor\n",
    "        gap=gap//2\n",
    "    \n",
    "    \n",
    "    \n",
    "    \n",
    "if __name__=='__main__':\n",
    "    elements=[99,88,33,22,55,11,56,78,34,23,12,21]\n",
    "    shell_sort(elements)\n",
    "    print(elements)"
   ]
  }
 ],
 "metadata": {
  "kernelspec": {
   "display_name": "Python 3 (ipykernel)",
   "language": "python",
   "name": "python3"
  },
  "language_info": {
   "codemirror_mode": {
    "name": "ipython",
    "version": 3
   },
   "file_extension": ".py",
   "mimetype": "text/x-python",
   "name": "python",
   "nbconvert_exporter": "python",
   "pygments_lexer": "ipython3",
   "version": "3.9.2"
  }
 },
 "nbformat": 4,
 "nbformat_minor": 5
}
