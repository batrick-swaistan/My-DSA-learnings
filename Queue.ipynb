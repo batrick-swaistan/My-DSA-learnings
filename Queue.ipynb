{
 "cells": [
  {
   "cell_type": "markdown",
   "id": "09ef892d",
   "metadata": {},
   "source": [
    "Queue may can be a list"
   ]
  },
  {
   "cell_type": "code",
   "execution_count": 32,
   "id": "b1c7b9b1",
   "metadata": {},
   "outputs": [],
   "source": [
    "lst=[]"
   ]
  },
  {
   "cell_type": "code",
   "execution_count": 33,
   "id": "84e411c4",
   "metadata": {},
   "outputs": [],
   "source": [
    "lst.insert(0,34)\n",
    "lst.insert(0,35)\n",
    "lst.insert(0,36)\n",
    "lst.insert(0,37)"
   ]
  },
  {
   "cell_type": "code",
   "execution_count": 34,
   "id": "e719807a",
   "metadata": {},
   "outputs": [
    {
     "name": "stdout",
     "output_type": "stream",
     "text": [
      "[37, 36, 35, 34]\n"
     ]
    }
   ],
   "source": [
    "print(lst)"
   ]
  },
  {
   "cell_type": "code",
   "execution_count": 35,
   "id": "7c48aefb",
   "metadata": {},
   "outputs": [],
   "source": [
    "from collections import deque\n",
    "class Queue:\n",
    "    def __init__(self):\n",
    "        self.buffer=deque()\n",
    "    def enqueue(self,val):\n",
    "        self.buffer.appendleft(val)\n",
    "    def dequeue(self):\n",
    "        return self.buffer.pop()\n",
    "    def is_empty(self):\n",
    "        return len(self.buffer)==0\n",
    "    def size(self):\n",
    "        return len(self.buffer)"
   ]
  },
  {
   "cell_type": "code",
   "execution_count": 36,
   "id": "57888d0e",
   "metadata": {},
   "outputs": [],
   "source": [
    "g=Queue()\n",
    "g.enqueue(\n",
    "{'Name':'Bajaj','Price':'134.5','Time':'April 6,11.01',})\n",
    "g.enqueue(\n",
    "{'Name':'Bajaj','Price':'135.5','Time':'April 6,11.02',})\n",
    "g.enqueue(\n",
    "{'Name':'Bajaj','Price':'136.5','Time':'April 6,11.03',})"
   ]
  },
  {
   "cell_type": "code",
   "execution_count": 37,
   "id": "c2abb35f",
   "metadata": {},
   "outputs": [
    {
     "data": {
      "text/plain": [
       "deque([{'Name': 'Bajaj', 'Price': '136.5', 'Time': 'April 6,11.03'},\n",
       "       {'Name': 'Bajaj', 'Price': '135.5', 'Time': 'April 6,11.02'},\n",
       "       {'Name': 'Bajaj', 'Price': '134.5', 'Time': 'April 6,11.01'}])"
      ]
     },
     "execution_count": 37,
     "metadata": {},
     "output_type": "execute_result"
    }
   ],
   "source": [
    "g.buffer"
   ]
  }
 ],
 "metadata": {
  "kernelspec": {
   "display_name": "Python 3 (ipykernel)",
   "language": "python",
   "name": "python3"
  },
  "language_info": {
   "codemirror_mode": {
    "name": "ipython",
    "version": 3
   },
   "file_extension": ".py",
   "mimetype": "text/x-python",
   "name": "python",
   "nbconvert_exporter": "python",
   "pygments_lexer": "ipython3",
   "version": "3.9.2"
  }
 },
 "nbformat": 4,
 "nbformat_minor": 5
}
