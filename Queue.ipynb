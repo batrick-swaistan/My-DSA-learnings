{
 "cells": [
  {
   "cell_type": "markdown",
   "id": "02a8887b",
   "metadata": {},
   "source": [
    "Queue may can be a list"
   ]
  },
  {
   "cell_type": "code",
   "execution_count": 1,
   "id": "668e77ff",
   "metadata": {},
   "outputs": [],
   "source": [
    "lst=[]"
   ]
  },
  {
   "cell_type": "code",
   "execution_count": 2,
   "id": "1c6a6b8e",
   "metadata": {},
   "outputs": [],
   "source": [
    "lst.insert(0,34)\n",
    "lst.insert(0,35)\n",
    "lst.insert(0,36)\n",
    "lst.insert(0,37)"
   ]
  },
  {
   "cell_type": "code",
   "execution_count": 4,
   "id": "9df88f4a",
   "metadata": {},
   "outputs": [
    {
     "name": "stdout",
     "output_type": "stream",
     "text": [
      "[37, 36, 35, 34]\n"
     ]
    }
   ],
   "source": [
    "print(lst)"
   ]
  },
  {
   "cell_type": "code",
   "execution_count": 6,
   "id": "cda021ef",
   "metadata": {},
   "outputs": [
    {
     "data": {
      "text/plain": [
       "35"
      ]
     },
     "execution_count": 6,
     "metadata": {},
     "output_type": "execute_result"
    }
   ],
   "source": [
    "lst.pop()"
   ]
  },
  {
   "cell_type": "code",
   "execution_count": 9,
   "id": "db38c12f",
   "metadata": {},
   "outputs": [
    {
     "ename": "IndexError",
     "evalue": "pop from empty list",
     "output_type": "error",
     "traceback": [
      "\u001b[0;31m---------------------------------------------------------------------------\u001b[0m",
      "\u001b[0;31mIndexError\u001b[0m                                Traceback (most recent call last)",
      "Input \u001b[0;32mIn [9]\u001b[0m, in \u001b[0;36m<cell line: 1>\u001b[0;34m()\u001b[0m\n\u001b[0;32m----> 1\u001b[0m \u001b[43mlst\u001b[49m\u001b[38;5;241;43m.\u001b[39;49m\u001b[43mpop\u001b[49m\u001b[43m(\u001b[49m\u001b[43m)\u001b[49m\n",
      "\u001b[0;31mIndexError\u001b[0m: pop from empty list"
     ]
    }
   ],
   "source": [
    "lst.pop()"
   ]
  },
  {
   "cell_type": "code",
   "execution_count": 24,
   "id": "0c8893f7",
   "metadata": {},
   "outputs": [],
   "source": [
    "from collections import deque\n",
    "class Queue:\n",
    "    def __init__(self):\n",
    "        self.buffer=deque()\n",
    "    def enqueue(self,val):\n",
    "        self.buffer.appendleft(val)\n",
    "    def dequeue(self):\n",
    "        return self.buffer.pop()\n",
    "    def is_empty(self):\n",
    "        return len(self.buffer)==0\n",
    "    def size(self):\n",
    "        return len(self.buffer)"
   ]
  },
  {
   "cell_type": "code",
   "execution_count": 25,
   "id": "e29782da",
   "metadata": {},
   "outputs": [],
   "source": [
    "g=Queue()\n",
    "g.enqueue(\n",
    "{'Name':'Bajaj','Price':'134.5','Time':'April 6,11.01',})\n",
    "g.enqueue(\n",
    "{'Name':'Bajaj','Price':'135.5','Time':'April 6,11.02',})\n",
    "g.enqueue(\n",
    "{'Name':'Bajaj','Price':'136.5','Time':'April 6,11.03',})"
   ]
  },
  {
   "cell_type": "code",
   "execution_count": 26,
   "id": "831aa0d2",
   "metadata": {},
   "outputs": [
    {
     "data": {
      "text/plain": [
       "deque([{'Name': 'Bajaj', 'Price': '136.5', 'Time': 'April 6,11.03'},\n",
       "       {'Name': 'Bajaj', 'Price': '135.5', 'Time': 'April 6,11.02'},\n",
       "       {'Name': 'Bajaj', 'Price': '134.5', 'Time': 'April 6,11.01'}])"
      ]
     },
     "execution_count": 26,
     "metadata": {},
     "output_type": "execute_result"
    }
   ],
   "source": [
    "g.buffer"
   ]
  },
  {
   "cell_type": "code",
   "execution_count": 30,
   "id": "9432d7ce",
   "metadata": {},
   "outputs": [
    {
     "ename": "IndexError",
     "evalue": "pop from an empty deque",
     "output_type": "error",
     "traceback": [
      "\u001b[0;31m---------------------------------------------------------------------------\u001b[0m",
      "\u001b[0;31mIndexError\u001b[0m                                Traceback (most recent call last)",
      "Input \u001b[0;32mIn [30]\u001b[0m, in \u001b[0;36m<cell line: 1>\u001b[0;34m()\u001b[0m\n\u001b[0;32m----> 1\u001b[0m \u001b[43mg\u001b[49m\u001b[38;5;241;43m.\u001b[39;49m\u001b[43mdequeue\u001b[49m\u001b[43m(\u001b[49m\u001b[43m)\u001b[49m\n",
      "Input \u001b[0;32mIn [24]\u001b[0m, in \u001b[0;36mQueue.dequeue\u001b[0;34m(self)\u001b[0m\n\u001b[1;32m      7\u001b[0m \u001b[38;5;28;01mdef\u001b[39;00m \u001b[38;5;21mdequeue\u001b[39m(\u001b[38;5;28mself\u001b[39m):\n\u001b[0;32m----> 8\u001b[0m     \u001b[38;5;28;01mreturn\u001b[39;00m \u001b[38;5;28;43mself\u001b[39;49m\u001b[38;5;241;43m.\u001b[39;49m\u001b[43mbuffer\u001b[49m\u001b[38;5;241;43m.\u001b[39;49m\u001b[43mpop\u001b[49m\u001b[43m(\u001b[49m\u001b[43m)\u001b[49m\n",
      "\u001b[0;31mIndexError\u001b[0m: pop from an empty deque"
     ]
    }
   ],
   "source": [
    "g.dequeue()"
   ]
  }
 ],
 "metadata": {
  "kernelspec": {
   "display_name": "Python 3 (ipykernel)",
   "language": "python",
   "name": "python3"
  },
  "language_info": {
   "codemirror_mode": {
    "name": "ipython",
    "version": 3
   },
   "file_extension": ".py",
   "mimetype": "text/x-python",
   "name": "python",
   "nbconvert_exporter": "python",
   "pygments_lexer": "ipython3",
   "version": "3.9.2"
  }
 },
 "nbformat": 4,
 "nbformat_minor": 5
}
