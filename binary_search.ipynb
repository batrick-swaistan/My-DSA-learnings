{
 "cells": [
  {
   "cell_type": "code",
   "execution_count": 2,
   "id": "289634ee",
   "metadata": {},
   "outputs": [
    {
     "name": "stdout",
     "output_type": "stream",
     "text": [
      "5\n"
     ]
    }
   ],
   "source": [
    "def linear_search(number_lst,number_found):\n",
    "    for index,element in enumerate(number_lst):\n",
    "        if element ==number_found:\n",
    "            return index\n",
    "    return -1\n",
    "\n",
    "\n",
    "def binary_search(number_lst,number_found):  #[-1,0,3,5,9,12]\n",
    "    left_index=0\n",
    "    right_index=len(number_lst)-1\n",
    "    mid_val=0\n",
    "    while left_index<=right_index:\n",
    "        mid_val=(right_index + left_index) // 2\n",
    "        mid_num=number_lst[mid_val]\n",
    "        \n",
    "        if mid_num==number_found:\n",
    "            return mid_val\n",
    "        if mid_num < number_found:\n",
    "            left_index=mid_val+1\n",
    "        else:\n",
    "            right_index=mid_val-1\n",
    "    return -1\n",
    "    \n",
    "def all_occ(number_lst,number_found):\n",
    "    index=binary_search(number_lst,number_found)\n",
    "    indeces=[index]\n",
    "    \n",
    "    i=index-1\n",
    "    \n",
    "    while i>=0:\n",
    "        if number_lst[i]==number_found:\n",
    "            indeces.append(i)\n",
    "        else:\n",
    "            pass\n",
    "        i-=1\n",
    "   \n",
    "\n",
    "    p=index+1 \n",
    "    while p<len(number_lst):\n",
    "        if number_lst[p]==number_found:\n",
    "            indeces.append(p)\n",
    "        else:\n",
    "            pass\n",
    "        p+=1\n",
    "    \n",
    "    return sorted(indeces)\n",
    "        \n",
    "    \n",
    "    \n",
    "if __name__=='__main__':\n",
    "    number_lst=[-1,0,3,5,9,12]\n",
    "    number_found=12\n",
    "    \n",
    "    \n",
    "    idx=binary_search(number_lst,number_found)\n",
    "    print(idx)"
   ]
  },
  {
   "cell_type": "code",
   "execution_count": null,
   "id": "9a2f1419",
   "metadata": {},
   "outputs": [],
   "source": []
  }
 ],
 "metadata": {
  "kernelspec": {
   "display_name": "Python 3 (ipykernel)",
   "language": "python",
   "name": "python3"
  },
  "language_info": {
   "codemirror_mode": {
    "name": "ipython",
    "version": 3
   },
   "file_extension": ".py",
   "mimetype": "text/x-python",
   "name": "python",
   "nbconvert_exporter": "python",
   "pygments_lexer": "ipython3",
   "version": "3.9.2"
  }
 },
 "nbformat": 4,
 "nbformat_minor": 5
}
