{
 "cells": [
  {
   "cell_type": "code",
   "execution_count": 11,
   "id": "273b0b6d",
   "metadata": {},
   "outputs": [
    {
     "name": "stdout",
     "output_type": "stream",
     "text": [
      "[3, 4, 6, 8, 9, 22, 12]\n"
     ]
    }
   ],
   "source": [
    "def swap(a,b,arr):\n",
    "    if a !=b:\n",
    "        \n",
    "        arr[a],arr[b]=arr[b],arr[a]\n",
    "    \n",
    "def partition(elements,start,end): #st=0, ed=6\n",
    "    pivot_index=start\n",
    "    pivot=elements[pivot_index]\n",
    "    \n",
    "    while start < end:\n",
    "        while start < len(elements) and elements[start] <= pivot:\n",
    "            start+=1\n",
    "            \n",
    "        while elements[end] > pivot:\n",
    "            end-=1\n",
    "            \n",
    "        if start<end:\n",
    "            swap(start,end,elements)\n",
    "    swap(pivot_index,end,elements)\n",
    "    \n",
    "    return end\n",
    "    \n",
    "def quick_sort(elements,start,end):\n",
    "    if start < end:\n",
    "        pi=partition(elements,start,end)\n",
    "        quick_sort(elements,start,pi-1) #left sort\n",
    "        #quick_sort(elements,pi+1,end) #right sort\n",
    "    \n",
    "    \n",
    "    \n",
    "    \n",
    "if __name__=='__main__':\n",
    "    elements=[8,3,4,6,9,22,12]\n",
    "    quick_sort(elements,0,len(elements)-1)\n",
    "    print(elements)"
   ]
  },
  {
   "cell_type": "code",
   "execution_count": 7,
   "id": "7c98a8cb",
   "metadata": {},
   "outputs": [
    {
     "name": "stdout",
     "output_type": "stream",
     "text": [
      "-5\n"
     ]
    }
   ],
   "source": [
    "def subb(b,a):\n",
    "    return b-a\n",
    "sub=subb(a=10,b=5)\n",
    "print(sub)"
   ]
  },
  {
   "cell_type": "code",
   "execution_count": null,
   "id": "31134065",
   "metadata": {},
   "outputs": [],
   "source": []
  }
 ],
 "metadata": {
  "kernelspec": {
   "display_name": "Python 3 (ipykernel)",
   "language": "python",
   "name": "python3"
  },
  "language_info": {
   "codemirror_mode": {
    "name": "ipython",
    "version": 3
   },
   "file_extension": ".py",
   "mimetype": "text/x-python",
   "name": "python",
   "nbconvert_exporter": "python",
   "pygments_lexer": "ipython3",
   "version": "3.9.2"
  }
 },
 "nbformat": 4,
 "nbformat_minor": 5
}
