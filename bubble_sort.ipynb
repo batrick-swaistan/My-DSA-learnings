{
 "cells": [
  {
   "cell_type": "markdown",
   "id": "df3eac98",
   "metadata": {},
   "source": [
    "# Sorting"
   ]
  },
  {
   "cell_type": "code",
   "execution_count": 11,
   "id": "25c4834f",
   "metadata": {},
   "outputs": [
    {
     "name": "stdout",
     "output_type": "stream",
     "text": [
      "[2, 3, 4, 5, 6, 8, 9]\n"
     ]
    }
   ],
   "source": [
    "def bubble_sort(elements):\n",
    "    size=len(elements)\n",
    "    \n",
    "    for i in range(size-1):\n",
    "        swaping=False\n",
    "        \n",
    "        for j in range(size-1):\n",
    "            if elements[j]>elements[j+1]:\n",
    "                tmp=elements[j]\n",
    "                elements[j]=elements[j+1]\n",
    "                elements[j+1]=tmp\n",
    "                swaping=True\n",
    "                \n",
    "        if not swaping:\n",
    "            break\n",
    "    \n",
    "    \n",
    "    \n",
    "if __name__==\"__main__\":\n",
    "    elements=[3,2,6,4,9,8,5]\n",
    "    bubble_sort(elements)\n",
    "    print(elements)"
   ]
  },
  {
   "cell_type": "code",
   "execution_count": 10,
   "id": "82bc3d49",
   "metadata": {},
   "outputs": [
    {
     "name": "stdout",
     "output_type": "stream",
     "text": [
      "['apple', 'banana', 'guva', 'orange']\n"
     ]
    }
   ],
   "source": [
    "elements1=['banana','orange','apple','guva']\n",
    "bubble_sort(elements1)\n",
    "print(elements1)"
   ]
  },
  {
   "cell_type": "code",
   "execution_count": 21,
   "id": "ef24fc62",
   "metadata": {},
   "outputs": [
    {
     "name": "stdout",
     "output_type": "stream",
     "text": [
      "[{'name': 'kathy', 'transaction_amount': 200, 'device': 'vivo'}, {'name': 'dhaval', 'transaction_amount': 400, 'device': 'google pixel'}, {'name': 'aamir', 'transaction_amount': 800, 'device': 'iphone-8'}, {'name': 'mona', 'transaction_amount': 1000, 'device': 'iphone-10'}]\n"
     ]
    }
   ],
   "source": [
    "def bubble_sort(elements,key= None):\n",
    "    size=len(elements)\n",
    "    \n",
    "    for i in range(size-1):\n",
    "        swaping=False\n",
    "        \n",
    "        for j in range(size-1-i):\n",
    "            a=elements[j][key]  #mona\n",
    "            b=elements[j+1][key]   #dhaval\n",
    "            if a>b: \n",
    "                tmp=elements[j]     #tmp = elements[0]\n",
    "                elements[j]=elements[j+1]  #elements[0]=elements[0+1]\n",
    "                elements[j+1]=tmp    #elements[0+1]=tmp\n",
    "                swaping=True\n",
    "                \n",
    "        if not swaping:\n",
    "            break\n",
    "    \n",
    "    \n",
    "    \n",
    "if __name__==\"__main__\":\n",
    "    elements = [\n",
    "        { 'name': 'mona',   'transaction_amount': 1000, 'device': 'iphone-10'},\n",
    "        { 'name': 'dhaval', 'transaction_amount': 400,  'device': 'google pixel'},\n",
    "        { 'name': 'kathy',  'transaction_amount': 200,  'device': 'vivo'},\n",
    "        { 'name': 'aamir',  'transaction_amount': 800,  'device': 'iphone-8'},\n",
    "    ]\n",
    "    bubble_sort(elements,key=\"transaction_amount\")\n",
    "    print(elements)"
   ]
  },
  {
   "cell_type": "code",
   "execution_count": null,
   "id": "cd5d32b5",
   "metadata": {},
   "outputs": [],
   "source": []
  }
 ],
 "metadata": {
  "kernelspec": {
   "display_name": "Python 3 (ipykernel)",
   "language": "python",
   "name": "python3"
  },
  "language_info": {
   "codemirror_mode": {
    "name": "ipython",
    "version": 3
   },
   "file_extension": ".py",
   "mimetype": "text/x-python",
   "name": "python",
   "nbconvert_exporter": "python",
   "pygments_lexer": "ipython3",
   "version": "3.9.2"
  }
 },
 "nbformat": 4,
 "nbformat_minor": 5
}
