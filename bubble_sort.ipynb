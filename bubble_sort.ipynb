{
 "cells": [
  {
   "cell_type": "markdown",
   "id": "52d8baee",
   "metadata": {},
   "source": [
    "# Sorting"
   ]
  },
  {
   "cell_type": "code",
   "execution_count": 5,
   "id": "766ea0ca",
   "metadata": {},
   "outputs": [
    {
     "name": "stdout",
     "output_type": "stream",
     "text": [
      "[2, 3, 4, 5, 6, 8, 9]\n"
     ]
    }
   ],
   "source": [
    "def bubble_sort(elements):\n",
    "    size=len(elements)\n",
    "    \n",
    "    for i in range(size-1):\n",
    "        swaping=False\n",
    "        \n",
    "        for j in range(size-1):\n",
    "            if elements[j]>elements[j+1]:\n",
    "                tmp=elements[j]\n",
    "                elements[j]=elements[j+1]\n",
    "                elements[j+1]=tmp\n",
    "                swaping=True\n",
    "                \n",
    "        if not swaping:\n",
    "            break\n",
    "    \n",
    "    \n",
    "    \n",
    "if __name__==\"__main__\":\n",
    "    elements=[3,2,6,4,9,8,5]\n",
    "    bubble_sort(elements)\n",
    "    print(elements)"
   ]
  },
  {
   "cell_type": "code",
   "execution_count": 9,
   "id": "78867af9",
   "metadata": {},
   "outputs": [
    {
     "name": "stdout",
     "output_type": "stream",
     "text": [
      "['apple', 'banana', 'guva', 'orange']\n"
     ]
    }
   ],
   "source": [
    "elements1=['banana','orange','apple','guva']\n",
    "bubble_sort(elements1)\n",
    "print(elements1)"
   ]
  }
 ],
 "metadata": {
  "kernelspec": {
   "display_name": "Python 3 (ipykernel)",
   "language": "python",
   "name": "python3"
  },
  "language_info": {
   "codemirror_mode": {
    "name": "ipython",
    "version": 3
   },
   "file_extension": ".py",
   "mimetype": "text/x-python",
   "name": "python",
   "nbconvert_exporter": "python",
   "pygments_lexer": "ipython3",
   "version": "3.9.2"
  }
 },
 "nbformat": 4,
 "nbformat_minor": 5
}
