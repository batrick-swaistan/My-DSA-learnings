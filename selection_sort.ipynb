{
 "cells": [
  {
   "cell_type": "code",
   "execution_count": 13,
   "id": "5f3b34a0",
   "metadata": {},
   "outputs": [
    {
     "name": "stdout",
     "output_type": "stream",
     "text": [
      "[1, 3, 4, 8]\n",
      "[4, 5, 34, 76, 432]\n",
      "[12, 14, 33, 76, 3254, 4545, 5445]\n",
      "[]\n"
     ]
    }
   ],
   "source": [
    "def selection_sort(elements):\n",
    "    size=len(elements)\n",
    "    for i in range(size-1):\n",
    "        min_index=i\n",
    "        for j in range(min_index+1,size):\n",
    "            if elements[j] < elements[min_index]:\n",
    "                min_index=j\n",
    "            \n",
    "        elements[i],elements[min_index]=elements[min_index],elements[i]\n",
    "                \n",
    "if __name__==\"__main__\":\n",
    "    elements=[[4,3,1,8],\n",
    "              [5,4,76,432,34],\n",
    "              [76,5445,3254,4545,12,14,33],\n",
    "              []\n",
    "             ]\n",
    "    for no in elements:\n",
    "        selection_sort(no)\n",
    "        print(no)"
   ]
  },
  {
   "cell_type": "code",
   "execution_count": null,
   "id": "73ed2bdc",
   "metadata": {},
   "outputs": [],
   "source": []
  }
 ],
 "metadata": {
  "kernelspec": {
   "display_name": "Python 3 (ipykernel)",
   "language": "python",
   "name": "python3"
  },
  "language_info": {
   "codemirror_mode": {
    "name": "ipython",
    "version": 3
   },
   "file_extension": ".py",
   "mimetype": "text/x-python",
   "name": "python",
   "nbconvert_exporter": "python",
   "pygments_lexer": "ipython3",
   "version": "3.9.2"
  }
 },
 "nbformat": 4,
 "nbformat_minor": 5
}
