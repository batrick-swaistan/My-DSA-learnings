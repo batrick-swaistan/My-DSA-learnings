{
 "cells": [
  {
   "cell_type": "code",
   "execution_count": 18,
   "id": "355157cc",
   "metadata": {},
   "outputs": [],
   "source": [
    "#Single linked #List\n"
   ]
  },
  {
   "cell_type": "code",
   "execution_count": 19,
   "id": "e3cbe59c",
   "metadata": {},
   "outputs": [
    {
     "name": "stdout",
     "output_type": "stream",
     "text": [
      "6 9 45 11 77 "
     ]
    }
   ],
   "source": [
    "\n",
    "\n",
    "class Node:\n",
    "    def __init__(self,data):\n",
    "        self.data=data\n",
    "        self.next=None\n",
    "class LinkedList:\n",
    "    def __init__(self):\n",
    "        self.head=None\n",
    "    def adddd(self,new_value):\n",
    "        new_node=Node(new_value)\n",
    "        new_node.next=self.head\n",
    "        self.head=new_node\n",
    "    def insrt_at(self,pre_node,new_value):\n",
    "        if pre_node is None:\n",
    "            print(\"Pre is empty\")\n",
    "            return\n",
    "        \n",
    "        new_node=Node(new_value)\n",
    "        new_node.next=pre_node.next\n",
    "        pre_node.next=new_node\n",
    "    def insrt_last(self,new_val):\n",
    "        new_node=Node(new_val)\n",
    "        if self.head is None:\n",
    "            new_node=self.head\n",
    "            return\n",
    "        tp=self.head\n",
    "        while tp.next:\n",
    "            tp=tp.next\n",
    "        tp.next=new_node\n",
    "    def del_node(self,key):\n",
    "        tmp=self.head\n",
    "        if tmp is not None:\n",
    "            if tmp.data==key:\n",
    "                self.head=tmp.next\n",
    "                tmp=None\n",
    "                return\n",
    "        while tmp is not None:\n",
    "            if tmp.data==key:\n",
    "                break\n",
    "            prv=tmp\n",
    "            tmp=tmp.next\n",
    "        if tmp==None:\n",
    "            return\n",
    "        prv.next=tmp.next\n",
    "        tmp=None\n",
    "    def printlist(self):\n",
    "        temp=self.head\n",
    "        while temp:\n",
    "            print(temp.data,end=\" \")\n",
    "            temp=temp.next\n",
    "if __name__==\"__main__\":\n",
    "    llist=LinkedList()\n",
    "    llist.head=Node(4)\n",
    "    nxt2=Node(6)\n",
    "    nxt3=Node(9)\n",
    "    nxt4=Node(11)\n",
    "    llist.head.next=nxt2\n",
    "    nxt2.next=nxt3\n",
    "    nxt3.next=nxt4\n",
    "    nxt4=None\n",
    "    #llist.adddd(82)\n",
    "    llist.insrt_at(nxt3,45)\n",
    "    llist.insrt_last(77)\n",
    "    llist.del_node(4)\n",
    "    llist.printlist()"
   ]
  },
  {
   "cell_type": "code",
   "execution_count": 20,
   "id": "9b798eeb",
   "metadata": {},
   "outputs": [],
   "source": [
    "#Doubley Linked List"
   ]
  },
  {
   "cell_type": "code",
   "execution_count": 38,
   "id": "d30df6d4",
   "metadata": {},
   "outputs": [
    {
     "name": "stdout",
     "output_type": "stream",
     "text": [
      "1 2 3 4 88 "
     ]
    }
   ],
   "source": [
    "class Node():\n",
    "    def __init__(self,data):\n",
    "        self.data=data\n",
    "        self.prev=None\n",
    "        self.next=None\n",
    "class DoubleLinkedList():\n",
    "    def __init__(self):\n",
    "        self.head=None\n",
    "    def fst(self,data):\n",
    "        new_node=Node(data)\n",
    "        new_node.next=self.head\n",
    "        new_node.prev=None\n",
    "        if self.head is not None:\n",
    "            self.head.prev=new_node\n",
    "        self.head=new_node\n",
    "    def insrt_at(self,prev_node,new_value):\n",
    "        if prev_node is None:\n",
    "            print(\"Pre is empty\")\n",
    "            return\n",
    "        new_node=Node(new_value)\n",
    "        new_node.next=prev_node.next\n",
    "        prev_node.next=new_node\n",
    "        new_node.prev=prev_node\n",
    "        if new_node.next is not None:\n",
    "            new_node.next.prev=new_node\n",
    "    def insrt_last(self,new_val):\n",
    "        new_node=Node(new_val)\n",
    "        if self.head is None:\n",
    "            new_node=self.head\n",
    "            new_node.prev=None\n",
    "            return\n",
    "            return\n",
    "        tp=self.head\n",
    "        while tp.next:\n",
    "            tp=tp.next\n",
    "        tp.next=new_node\n",
    "        new_node.next=None\n",
    "        new_node.prev=tp.next\n",
    "    def printing(self):\n",
    "        temp=self.head\n",
    "        while temp:\n",
    "            print(temp.data,end=\" \")\n",
    "            temp=temp.next\n",
    "if __name__==\"__main__\":\n",
    "    dllist=DoubleLinkedList()\n",
    "    dllist.head=Node(1)\n",
    "    second=Node(2)\n",
    "    Third=Node(3)\n",
    "    foruth=Node(4)\n",
    "    \n",
    "    dllist.head.next=second\n",
    "    dllist.head.prev=None\n",
    "    second.next=Third\n",
    "    second.prev=dllist.head\n",
    "    Third.next=foruth\n",
    "    Third.prev=second\n",
    "    foruth.next=None\n",
    "    foruth.prev=Third\n",
    "    #dllist.fst(9)\n",
    "    #dllist.insrt_at(foruth,5)\n",
    "    dllist.insrt_last(88)\n",
    "    dllist.printing()"
   ]
  },
  {
   "cell_type": "code",
   "execution_count": null,
   "id": "e75fd9e4",
   "metadata": {},
   "outputs": [],
   "source": []
  },
  {
   "cell_type": "code",
   "execution_count": null,
   "id": "3053a2b5",
   "metadata": {},
   "outputs": [],
   "source": []
  },
  {
   "cell_type": "code",
   "execution_count": 3,
   "id": "ae6c6d01",
   "metadata": {},
   "outputs": [
    {
     "ename": "NameError",
     "evalue": "name 'prin' is not defined",
     "output_type": "error",
     "traceback": [
      "\u001b[0;31m---------------------------------------------------------------------------\u001b[0m",
      "\u001b[0;31mNameError\u001b[0m                                 Traceback (most recent call last)",
      "Input \u001b[0;32mIn [3]\u001b[0m, in \u001b[0;36m<cell line: 1>\u001b[0;34m()\u001b[0m\n\u001b[0;32m----> 1\u001b[0m \u001b[43mprin\u001b[49m\n",
      "\u001b[0;31mNameError\u001b[0m: name 'prin' is not defined"
     ]
    }
   ],
   "source": []
  }
 ],
 "metadata": {
  "kernelspec": {
   "display_name": "Python 3 (ipykernel)",
   "language": "python",
   "name": "python3"
  },
  "language_info": {
   "codemirror_mode": {
    "name": "ipython",
    "version": 3
   },
   "file_extension": ".py",
   "mimetype": "text/x-python",
   "name": "python",
   "nbconvert_exporter": "python",
   "pygments_lexer": "ipython3",
   "version": "3.9.2"
  }
 },
 "nbformat": 4,
 "nbformat_minor": 5
}
